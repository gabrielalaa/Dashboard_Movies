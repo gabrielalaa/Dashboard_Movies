{
 "cells": [
  {
   "metadata": {},
   "cell_type": "markdown",
   "source": "# Import packages and dataset",
   "id": "9614c9bd37ade7e0"
  },
  {
   "cell_type": "code",
   "id": "initial_id",
   "metadata": {
    "collapsed": true
   },
   "source": [
    "# essentials\n",
    "import pandas as pd\n",
    "import numpy as np\n",
    "\n",
    "# visualizations\n",
    "import seaborn as sns\n",
    "import matplotlib.pyplot as plt\n",
    "import plotly.express as px\n",
    "\n",
    "# Warnings\n",
    "import warnings\n",
    "warnings.filterwarnings(\"ignore\")\n",
    "\n",
    "from collections import Counter"
   ],
   "outputs": [],
   "execution_count": null
  },
  {
   "metadata": {},
   "cell_type": "code",
   "source": "print(plt.style.available)",
   "id": "ef5af23ef0451aa3",
   "outputs": [],
   "execution_count": null
  },
  {
   "metadata": {},
   "cell_type": "code",
   "source": "df = pd.read_csv('Movies.csv')",
   "id": "5c6fa5b77483d13d",
   "outputs": [],
   "execution_count": null
  },
  {
   "metadata": {},
   "cell_type": "code",
   "source": "df.info()",
   "id": "460d938f58e2ecd5",
   "outputs": [],
   "execution_count": null
  },
  {
   "metadata": {},
   "cell_type": "code",
   "source": "df.duplicated().sum()  # Check for duplicates",
   "id": "e2a9714feb8aa47d",
   "outputs": [],
   "execution_count": null
  },
  {
   "metadata": {},
   "cell_type": "code",
   "source": "df.isnull().sum()  # Check missing values",
   "id": "4814d03aade44cd",
   "outputs": [],
   "execution_count": null
  },
  {
   "metadata": {},
   "cell_type": "code",
   "source": "df.isnull().sum().sort_values(ascending=False)",
   "id": "47ede9dd6ec737bd",
   "outputs": [],
   "execution_count": null
  },
  {
   "metadata": {},
   "cell_type": "markdown",
   "source": "# Clean and prepare the data",
   "id": "61643a81a438f8cf"
  },
  {
   "metadata": {},
   "cell_type": "markdown",
   "source": "## Convert data types",
   "id": "e8d4eec80b054339"
  },
  {
   "metadata": {},
   "cell_type": "code",
   "source": [
    "# For numeric-based analysis:\n",
    "df['Released_Year'] = pd.to_numeric(df['Released_Year'], errors='coerce')\n",
    "\n",
    "# To see, for example, the average movie length\n",
    "df['Runtime'] = df['Runtime'].str.replace('min', '').astype(int)\n",
    "\n",
    "# I noticed that it is a string with commas (e.g., 1,000,000) which can be used later for scatter plots, bar charts or other plots\n",
    "df['Gross'] = df['Gross'].str.replace(',', '').astype(float)"
   ],
   "id": "a9a0d80352d2c5aa",
   "outputs": [],
   "execution_count": null
  },
  {
   "metadata": {},
   "cell_type": "code",
   "source": "df.info()",
   "id": "3cc4a1a922dafff3",
   "outputs": [],
   "execution_count": null
  },
  {
   "metadata": {},
   "cell_type": "markdown",
   "source": "## Handle missing values",
   "id": "7e988dac3f61b1db"
  },
  {
   "metadata": {},
   "cell_type": "code",
   "source": [
    "# Drop the only row missing release year\n",
    "df.dropna(subset=['Released_Year'], inplace=True)\n",
    "\n",
    "# Fill missing Certificate with a neutral category\n",
    "df['Certificate'].fillna('Not Rated', inplace=True)\n",
    "\n",
    "# Fill missing Meta_score with the average\n",
    "df['Meta_score'].fillna(df['Meta_score'].mean(), inplace=True)\n",
    "\n",
    "# Fill missing Gross with 0\n",
    "df['Gross'].fillna(0, inplace=True)"
   ],
   "id": "f0dd03935659ac7e",
   "outputs": [],
   "execution_count": null
  },
  {
   "metadata": {},
   "cell_type": "code",
   "source": "df.isnull().sum()  # Check missing values",
   "id": "40a5594f28ebd036",
   "outputs": [],
   "execution_count": null
  },
  {
   "metadata": {},
   "cell_type": "code",
   "source": "df.isnull().sum().sort_values(ascending=False)",
   "id": "415bfa118d5dcda3",
   "outputs": [],
   "execution_count": null
  },
  {
   "metadata": {},
   "cell_type": "markdown",
   "source": "# Explore the data",
   "id": "6542aac9900f75e4"
  },
  {
   "metadata": {},
   "cell_type": "markdown",
   "source": "## Descriptive Statistics and Value Counts",
   "id": "f2cd1d3f3c72867a"
  },
  {
   "metadata": {},
   "cell_type": "code",
   "source": "df.describe()",
   "id": "74cae7310f167a54",
   "outputs": [],
   "execution_count": null
  },
  {
   "metadata": {},
   "cell_type": "code",
   "source": [
    "# See the frequency of certificates\n",
    "df['Certificate'].value_counts()"
   ],
   "id": "c0485cd2254af852",
   "outputs": [],
   "execution_count": null
  },
  {
   "metadata": {},
   "cell_type": "code",
   "source": [
    "# See the frequency of genres\n",
    "df['Genre'].value_counts().head(10)"
   ],
   "id": "5e9001be6362fca1",
   "outputs": [],
   "execution_count": null
  },
  {
   "metadata": {},
   "cell_type": "code",
   "source": [
    "# Find the number of movies per year\n",
    "df['Released_Year'].value_counts().sort_index(ascending=False).head(20)"
   ],
   "id": "e967de3ca8ecaaa9",
   "outputs": [],
   "execution_count": null
  },
  {
   "metadata": {},
   "cell_type": "code",
   "source": [
    "# plt.figure(figsize=(12, 5))\n",
    "# df['Released_Year'].value_counts().sort_index().plot(kind='line')\n",
    "# plt.title(\"Number of Movies released per Year\")\n",
    "# plt.xlabel(\"Year\")\n",
    "# plt.ylabel(\"Number of movies\")\n",
    "# plt.grid(True)\n",
    "#\n",
    "# # Save the picture before showing the plot\n",
    "# plt.savefig(\"insight_movies_per_year.png\", dpi=300, bbox_inches='tight')\n",
    "#\n",
    "# plt.show()\n",
    "# plt.close()"
   ],
   "id": "6db1c0d9bbcfc3b1",
   "outputs": [],
   "execution_count": null
  },
  {
   "metadata": {},
   "cell_type": "code",
   "source": [
    "# Personalized version\n",
    "plt.figure(figsize=(12, 5))\n",
    "plt.figure(figsize=(12, 5))\n",
    "df['Released_Year'].value_counts().sort_index().plot(\n",
    "    kind='line',\n",
    "    color='#A020F0',      # Purple line\n",
    "    marker='o',\n",
    "    markersize=4,\n",
    "    linewidth=2\n",
    ")\n",
    "\n",
    "plt.title(\"Number of Movies Released per Year\", fontsize=16, color='black')\n",
    "plt.xlabel(\"Year\", fontsize=12, color='black')\n",
    "plt.ylabel(\"Number of Movies\", fontsize=12, color='black')\n",
    "plt.xticks(fontsize=10, color='black')\n",
    "plt.yticks(fontsize=10, color='black')\n",
    "plt.grid(True, linestyle='--', alpha=0.6)\n",
    "\n",
    "# Save directly to the assets folder\n",
    "plt.savefig(\"assets/insight1_movies_per_year.png\", dpi=300, bbox_inches='tight')\n",
    "plt.show()\n",
    "plt.close()"
   ],
   "id": "8696cc86f1c03aa7",
   "outputs": [],
   "execution_count": null
  },
  {
   "metadata": {},
   "cell_type": "markdown",
   "source": "I can see that movie production has increased over time, peaking around the 2000s, then slightly declining by 2020.",
   "id": "ced5aec9cd8aa3f4"
  },
  {
   "metadata": {},
   "cell_type": "code",
   "source": "df.groupby('Certificate')['IMDB_Rating'].mean().sort_values(ascending=False)",
   "id": "b8e47d9c49802225",
   "outputs": [],
   "execution_count": null
  },
  {
   "metadata": {},
   "cell_type": "markdown",
   "source": "## Compare average IMDB ratings per certificate",
   "id": "7041cea4da022758"
  },
  {
   "metadata": {},
   "cell_type": "code",
   "source": "df.groupby('Certificate')['IMDB_Rating'].mean().sort_values(ascending=False)",
   "id": "d9c9efb172242ca0",
   "outputs": [],
   "execution_count": null
  },
  {
   "metadata": {},
   "cell_type": "code",
   "source": [
    "# Show all certificate ratings\n",
    "df.groupby('Certificate')['IMDB_Rating'].mean().sort_values(ascending=False).reset_index()"
   ],
   "id": "c5b01280d36b6faf",
   "outputs": [],
   "execution_count": null
  },
  {
   "metadata": {},
   "cell_type": "code",
   "source": [
    "# plt.figure(figsize=(10, 6))\n",
    "# df.groupby('Certificate')['IMDB_Rating'].mean().sort_values(ascending=False).plot(kind='bar', color='skyblue')\n",
    "#\n",
    "# plt.title(\"Average IMDB Rating by Movie Certificate\")\n",
    "# plt.xlabel(\"Certificate\")\n",
    "# plt.ylabel(\"Average IMDB Rating\")\n",
    "# plt.xticks(rotation=45)\n",
    "# plt.grid(axis='y')\n",
    "#\n",
    "# # Save before show\n",
    "# plt.savefig(\"insight_imdb_vs_certificate.png\", dpi=300, bbox_inches='tight')\n",
    "# plt.show()\n",
    "# plt.close()"
   ],
   "id": "d34479a525021aad",
   "outputs": [],
   "execution_count": null
  },
  {
   "metadata": {},
   "cell_type": "code",
   "source": [
    "# Personalized version\n",
    "plt.figure(figsize=(10, 6))\n",
    "df.groupby('Certificate')['IMDB_Rating'].mean().sort_values(ascending=False).plot(\n",
    "    kind='bar',\n",
    "    color='#A020F0',      # Purple bars\n",
    "    edgecolor='black'\n",
    ")\n",
    "\n",
    "plt.title(\"Average IMDB Rating by Movie Certificate\", color='black')\n",
    "plt.xlabel(\"Certificate\", color='black')\n",
    "plt.ylabel(\"Average IMDB Rating\", color='black')\n",
    "plt.xticks(rotation=45, color='black')\n",
    "plt.yticks(color='black')\n",
    "plt.grid(axis='y')\n",
    "\n",
    "plt.savefig(\"insight2_imdb_vs_certificate.png\", dpi=300, bbox_inches='tight')\n",
    "plt.show()\n",
    "plt.close()"
   ],
   "id": "10376d04a1080da",
   "outputs": [],
   "execution_count": null
  },
  {
   "metadata": {},
   "cell_type": "markdown",
   "source": "## Top 10 most frequent actor appearances",
   "id": "49ac7159076dda78"
  },
  {
   "metadata": {},
   "cell_type": "code",
   "source": [
    "# Combine all 4-star columns into one\n",
    "# Combine all 4-star columns into one\n",
    "all_actors = df[['Star1', 'Star2', 'Star3', 'Star4']].values.ravel()\n",
    "actor_counts = Counter(all_actors)\n",
    "top_actors = dict(sorted(actor_counts.items(), key=lambda x: x[1], reverse=True)[:10])\n",
    "\n",
    "# Plot\n",
    "plt.figure(figsize=(10, 5))\n",
    "plt.bar(top_actors.keys(), top_actors.values(), color='#A020F0', edgecolor='black')\n",
    "\n",
    "plt.title(\"Top 10 Most Frequent Actors\", fontsize=16, color='black')\n",
    "plt.xlabel(\"Actor\", fontsize=12, color='black')\n",
    "plt.ylabel(\"Number of Appearances\", fontsize=12, color='black')\n",
    "plt.xticks(rotation=45, fontsize=10, color='black')\n",
    "plt.yticks(fontsize=10, color='black')\n",
    "plt.grid(axis='y', linestyle='--', alpha=0.6)\n",
    "\n",
    "plt.tight_layout()\n",
    "plt.savefig(\"assets/insight3_top_actors.png\", dpi=300, bbox_inches='tight')\n",
    "plt.show()\n",
    "plt.close()"
   ],
   "id": "9169e703cce81072",
   "outputs": [],
   "execution_count": null
  },
  {
   "metadata": {},
   "cell_type": "markdown",
   "source": "## Top 10 most common genres",
   "id": "efb3ffc431eebd5a"
  },
  {
   "metadata": {},
   "cell_type": "code",
   "source": [
    "# Count individual genres\n",
    "genre_split = df['Genre'].dropna().str.split(', ')\n",
    "flat_genres = [genre for sublist in genre_split for genre in sublist]\n",
    "genre_counts = Counter(flat_genres)\n",
    "top_genres = dict(genre_counts.most_common(10))\n",
    "\n",
    "# Plot horizontal bar chart\n",
    "plt.figure(figsize=(10, 5))\n",
    "plt.barh(list(top_genres.keys()), list(top_genres.values()), color='#A020F0', edgecolor='black')\n",
    "\n",
    "plt.title(\"Top 10 Most Common Genres\", fontsize=16, color='black')\n",
    "plt.xlabel(\"Number of Movies\", fontsize=12, color='black')\n",
    "plt.ylabel(\"Genre\", fontsize=12, color='black')\n",
    "plt.xticks(fontsize=10, color='black')\n",
    "plt.yticks(fontsize=10, color='black')\n",
    "plt.gca().invert_yaxis()\n",
    "plt.grid(axis='x', linestyle='--', alpha=0.6)\n",
    "\n",
    "plt.tight_layout()\n",
    "plt.savefig(\"assets/insight4_top_genres.png\", dpi=300, bbox_inches='tight')\n",
    "plt.show()\n",
    "plt.close()"
   ],
   "id": "6554b619f5eaa799",
   "outputs": [],
   "execution_count": null
  },
  {
   "metadata": {},
   "cell_type": "markdown",
   "source": "## Rating . Gross",
   "id": "8d5dcea57a964a92"
  },
  {
   "metadata": {},
   "cell_type": "code",
   "source": [
    "import matplotlib.pyplot as plt\n",
    "\n",
    "plt.style.use('default')  # Clean white background\n",
    "\n",
    "plt.figure(figsize=(12, 6))\n",
    "scatter = plt.scatter(\n",
    "    df['IMDB_Rating'],\n",
    "    df['Gross'],\n",
    "    c=df['Meta_score'],\n",
    "    s=df['No_of_Votes'] / 25000,  # Adjust dot size\n",
    "    cmap='Purples',\n",
    "    edgecolor='black',\n",
    "    alpha=0.7\n",
    ")\n",
    "\n",
    "plt.colorbar(label='Meta Score')\n",
    "plt.xlabel(\"IMDB Rating\", color='black')\n",
    "plt.ylabel(\"Gross Revenue\", color='black')\n",
    "plt.title(\"IMDB Rating vs. Gross Revenue\\n(Meta Score & Number of Votes)\", fontsize=14, color='black')\n",
    "\n",
    "plt.xticks(color='black')\n",
    "plt.yticks(color='black')\n",
    "plt.grid(True, linestyle='--', alpha=0.6)\n",
    "\n",
    "plt.tight_layout()\n",
    "plt.savefig(\"assets/insight5_rating_vs_gross.png\", dpi=300, bbox_inches='tight')\n",
    "plt.show()\n",
    "plt.close()"
   ],
   "id": "1b3174874b5e24fa",
   "outputs": [],
   "execution_count": null
  }
 ],
 "metadata": {
  "kernelspec": {
   "display_name": "Python 3",
   "language": "python",
   "name": "python3"
  },
  "language_info": {
   "codemirror_mode": {
    "name": "ipython",
    "version": 2
   },
   "file_extension": ".py",
   "mimetype": "text/x-python",
   "name": "python",
   "nbconvert_exporter": "python",
   "pygments_lexer": "ipython2",
   "version": "2.7.6"
  }
 },
 "nbformat": 4,
 "nbformat_minor": 5
}
