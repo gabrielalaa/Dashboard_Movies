{
 "cells": [
  {
   "metadata": {},
   "cell_type": "markdown",
   "source": "# Import packages and dataset",
   "id": "9614c9bd37ade7e0"
  },
  {
   "cell_type": "code",
   "id": "initial_id",
   "metadata": {
    "collapsed": true,
    "ExecuteTime": {
     "end_time": "2025-06-19T19:12:24.621197Z",
     "start_time": "2025-06-19T19:12:24.618261Z"
    }
   },
   "source": [
    "# essentials\n",
    "import pandas as pd\n",
    "import numpy as np\n",
    "\n",
    "# visualizations\n",
    "import seaborn as sns\n",
    "import matplotlib.pyplot as plt\n",
    "import plotly.express as px\n",
    "\n",
    "# Warnings\n",
    "import warnings\n",
    "warnings.filterwarnings(\"ignore\")\n",
    "\n",
    "from collections import Counter"
   ],
   "outputs": [],
   "execution_count": 57
  },
  {
   "metadata": {
    "ExecuteTime": {
     "end_time": "2025-06-19T19:00:34.493517Z",
     "start_time": "2025-06-19T19:00:34.488771Z"
    }
   },
   "cell_type": "code",
   "source": "print(plt.style.available)",
   "id": "ef5af23ef0451aa3",
   "outputs": [
    {
     "name": "stdout",
     "output_type": "stream",
     "text": [
      "['Solarize_Light2', '_classic_test_patch', '_mpl-gallery', '_mpl-gallery-nogrid', 'bmh', 'classic', 'dark_background', 'fast', 'fivethirtyeight', 'ggplot', 'grayscale', 'petroff10', 'seaborn-v0_8', 'seaborn-v0_8-bright', 'seaborn-v0_8-colorblind', 'seaborn-v0_8-dark', 'seaborn-v0_8-dark-palette', 'seaborn-v0_8-darkgrid', 'seaborn-v0_8-deep', 'seaborn-v0_8-muted', 'seaborn-v0_8-notebook', 'seaborn-v0_8-paper', 'seaborn-v0_8-pastel', 'seaborn-v0_8-poster', 'seaborn-v0_8-talk', 'seaborn-v0_8-ticks', 'seaborn-v0_8-white', 'seaborn-v0_8-whitegrid', 'tableau-colorblind10']\n"
     ]
    }
   ],
   "execution_count": 50
  },
  {
   "metadata": {
    "ExecuteTime": {
     "end_time": "2025-06-19T18:24:14.417312Z",
     "start_time": "2025-06-19T18:24:14.400673Z"
    }
   },
   "cell_type": "code",
   "source": "df = pd.read_csv('Movies.csv')",
   "id": "5c6fa5b77483d13d",
   "outputs": [],
   "execution_count": 19
  },
  {
   "metadata": {
    "ExecuteTime": {
     "end_time": "2025-06-19T18:24:16.010791Z",
     "start_time": "2025-06-19T18:24:16.000782Z"
    }
   },
   "cell_type": "code",
   "source": "df.info()",
   "id": "460d938f58e2ecd5",
   "outputs": [
    {
     "name": "stdout",
     "output_type": "stream",
     "text": [
      "<class 'pandas.core.frame.DataFrame'>\n",
      "RangeIndex: 1000 entries, 0 to 999\n",
      "Data columns (total 16 columns):\n",
      " #   Column         Non-Null Count  Dtype  \n",
      "---  ------         --------------  -----  \n",
      " 0   Poster_Link    1000 non-null   object \n",
      " 1   Series_Title   1000 non-null   object \n",
      " 2   Released_Year  1000 non-null   object \n",
      " 3   Certificate    899 non-null    object \n",
      " 4   Runtime        1000 non-null   object \n",
      " 5   Genre          1000 non-null   object \n",
      " 6   IMDB_Rating    1000 non-null   float64\n",
      " 7   Overview       1000 non-null   object \n",
      " 8   Meta_score     843 non-null    float64\n",
      " 9   Director       1000 non-null   object \n",
      " 10  Star1          1000 non-null   object \n",
      " 11  Star2          1000 non-null   object \n",
      " 12  Star3          1000 non-null   object \n",
      " 13  Star4          1000 non-null   object \n",
      " 14  No_of_Votes    1000 non-null   int64  \n",
      " 15  Gross          831 non-null    object \n",
      "dtypes: float64(2), int64(1), object(13)\n",
      "memory usage: 125.1+ KB\n"
     ]
    }
   ],
   "execution_count": 20
  },
  {
   "metadata": {
    "ExecuteTime": {
     "end_time": "2025-06-19T18:24:17.978095Z",
     "start_time": "2025-06-19T18:24:17.969768Z"
    }
   },
   "cell_type": "code",
   "source": "df.duplicated().sum()  # Check for duplicates",
   "id": "e2a9714feb8aa47d",
   "outputs": [
    {
     "data": {
      "text/plain": [
       "np.int64(0)"
      ]
     },
     "execution_count": 21,
     "metadata": {},
     "output_type": "execute_result"
    }
   ],
   "execution_count": 21
  },
  {
   "metadata": {
    "ExecuteTime": {
     "end_time": "2025-06-19T18:24:18.835626Z",
     "start_time": "2025-06-19T18:24:18.829576Z"
    }
   },
   "cell_type": "code",
   "source": "df.isnull().sum()  # Check missing values",
   "id": "4814d03aade44cd",
   "outputs": [
    {
     "data": {
      "text/plain": [
       "Poster_Link        0\n",
       "Series_Title       0\n",
       "Released_Year      0\n",
       "Certificate      101\n",
       "Runtime            0\n",
       "Genre              0\n",
       "IMDB_Rating        0\n",
       "Overview           0\n",
       "Meta_score       157\n",
       "Director           0\n",
       "Star1              0\n",
       "Star2              0\n",
       "Star3              0\n",
       "Star4              0\n",
       "No_of_Votes        0\n",
       "Gross            169\n",
       "dtype: int64"
      ]
     },
     "execution_count": 22,
     "metadata": {},
     "output_type": "execute_result"
    }
   ],
   "execution_count": 22
  },
  {
   "metadata": {
    "ExecuteTime": {
     "end_time": "2025-06-19T18:24:20.599312Z",
     "start_time": "2025-06-19T18:24:20.594466Z"
    }
   },
   "cell_type": "code",
   "source": "df.isnull().sum().sort_values(ascending=False)",
   "id": "47ede9dd6ec737bd",
   "outputs": [
    {
     "data": {
      "text/plain": [
       "Gross            169\n",
       "Meta_score       157\n",
       "Certificate      101\n",
       "Poster_Link        0\n",
       "Runtime            0\n",
       "Genre              0\n",
       "Series_Title       0\n",
       "Released_Year      0\n",
       "Overview           0\n",
       "IMDB_Rating        0\n",
       "Star1              0\n",
       "Director           0\n",
       "Star2              0\n",
       "Star3              0\n",
       "Star4              0\n",
       "No_of_Votes        0\n",
       "dtype: int64"
      ]
     },
     "execution_count": 23,
     "metadata": {},
     "output_type": "execute_result"
    }
   ],
   "execution_count": 23
  },
  {
   "metadata": {},
   "cell_type": "markdown",
   "source": "# Clean and prepare the data",
   "id": "61643a81a438f8cf"
  },
  {
   "metadata": {},
   "cell_type": "markdown",
   "source": "## Convert data types",
   "id": "e8d4eec80b054339"
  },
  {
   "metadata": {
    "ExecuteTime": {
     "end_time": "2025-06-19T18:24:23.224311Z",
     "start_time": "2025-06-19T18:24:23.217651Z"
    }
   },
   "cell_type": "code",
   "source": [
    "# For numeric-based analysis:\n",
    "df['Released_Year'] = pd.to_numeric(df['Released_Year'], errors='coerce')\n",
    "\n",
    "# To see, for example, the average movie length\n",
    "df['Runtime'] = df['Runtime'].str.replace('min', '').astype(int)\n",
    "\n",
    "# I noticed that it is a string with commas (e.g., 1,000,000) which can be used later for scatter plots, bar charts or other plots\n",
    "df['Gross'] = df['Gross'].str.replace(',', '').astype(float)"
   ],
   "id": "a9a0d80352d2c5aa",
   "outputs": [],
   "execution_count": 24
  },
  {
   "metadata": {
    "ExecuteTime": {
     "end_time": "2025-06-19T18:24:25.069507Z",
     "start_time": "2025-06-19T18:24:25.061888Z"
    }
   },
   "cell_type": "code",
   "source": "df.info()",
   "id": "3cc4a1a922dafff3",
   "outputs": [
    {
     "name": "stdout",
     "output_type": "stream",
     "text": [
      "<class 'pandas.core.frame.DataFrame'>\n",
      "RangeIndex: 1000 entries, 0 to 999\n",
      "Data columns (total 16 columns):\n",
      " #   Column         Non-Null Count  Dtype  \n",
      "---  ------         --------------  -----  \n",
      " 0   Poster_Link    1000 non-null   object \n",
      " 1   Series_Title   1000 non-null   object \n",
      " 2   Released_Year  999 non-null    float64\n",
      " 3   Certificate    899 non-null    object \n",
      " 4   Runtime        1000 non-null   int64  \n",
      " 5   Genre          1000 non-null   object \n",
      " 6   IMDB_Rating    1000 non-null   float64\n",
      " 7   Overview       1000 non-null   object \n",
      " 8   Meta_score     843 non-null    float64\n",
      " 9   Director       1000 non-null   object \n",
      " 10  Star1          1000 non-null   object \n",
      " 11  Star2          1000 non-null   object \n",
      " 12  Star3          1000 non-null   object \n",
      " 13  Star4          1000 non-null   object \n",
      " 14  No_of_Votes    1000 non-null   int64  \n",
      " 15  Gross          831 non-null    float64\n",
      "dtypes: float64(4), int64(2), object(10)\n",
      "memory usage: 125.1+ KB\n"
     ]
    }
   ],
   "execution_count": 25
  },
  {
   "metadata": {},
   "cell_type": "markdown",
   "source": "## Handle missing values",
   "id": "7e988dac3f61b1db"
  },
  {
   "metadata": {
    "ExecuteTime": {
     "end_time": "2025-06-19T18:25:13.538630Z",
     "start_time": "2025-06-19T18:25:13.529489Z"
    }
   },
   "cell_type": "code",
   "source": [
    "# Drop the only row missing release year\n",
    "df.dropna(subset=['Released_Year'], inplace=True)\n",
    "\n",
    "# Fill missing Certificate with a neutral category\n",
    "df['Certificate'].fillna('Not Rated', inplace=True)\n",
    "\n",
    "# Fill missing Meta_score with the average\n",
    "df['Meta_score'].fillna(df['Meta_score'].mean(), inplace=True)\n",
    "\n",
    "# Fill missing Gross with 0\n",
    "df['Gross'].fillna(0, inplace=True)"
   ],
   "id": "f0dd03935659ac7e",
   "outputs": [],
   "execution_count": 26
  },
  {
   "metadata": {
    "ExecuteTime": {
     "end_time": "2025-06-19T18:25:31.765736Z",
     "start_time": "2025-06-19T18:25:31.760161Z"
    }
   },
   "cell_type": "code",
   "source": "df.isnull().sum()  # Check missing values",
   "id": "40a5594f28ebd036",
   "outputs": [
    {
     "data": {
      "text/plain": [
       "Poster_Link      0\n",
       "Series_Title     0\n",
       "Released_Year    0\n",
       "Certificate      0\n",
       "Runtime          0\n",
       "Genre            0\n",
       "IMDB_Rating      0\n",
       "Overview         0\n",
       "Meta_score       0\n",
       "Director         0\n",
       "Star1            0\n",
       "Star2            0\n",
       "Star3            0\n",
       "Star4            0\n",
       "No_of_Votes      0\n",
       "Gross            0\n",
       "dtype: int64"
      ]
     },
     "execution_count": 27,
     "metadata": {},
     "output_type": "execute_result"
    }
   ],
   "execution_count": 27
  },
  {
   "metadata": {
    "ExecuteTime": {
     "end_time": "2025-06-19T18:25:52.193189Z",
     "start_time": "2025-06-19T18:25:52.187614Z"
    }
   },
   "cell_type": "code",
   "source": "df.isnull().sum().sort_values(ascending=False)",
   "id": "415bfa118d5dcda3",
   "outputs": [
    {
     "data": {
      "text/plain": [
       "Poster_Link      0\n",
       "Series_Title     0\n",
       "Released_Year    0\n",
       "Certificate      0\n",
       "Runtime          0\n",
       "Genre            0\n",
       "IMDB_Rating      0\n",
       "Overview         0\n",
       "Meta_score       0\n",
       "Director         0\n",
       "Star1            0\n",
       "Star2            0\n",
       "Star3            0\n",
       "Star4            0\n",
       "No_of_Votes      0\n",
       "Gross            0\n",
       "dtype: int64"
      ]
     },
     "execution_count": 28,
     "metadata": {},
     "output_type": "execute_result"
    }
   ],
   "execution_count": 28
  },
  {
   "metadata": {},
   "cell_type": "markdown",
   "source": "# Explore the data",
   "id": "6542aac9900f75e4"
  },
  {
   "metadata": {},
   "cell_type": "markdown",
   "source": "## Descriptive Statistics and Value Counts",
   "id": "f2cd1d3f3c72867a"
  },
  {
   "metadata": {
    "ExecuteTime": {
     "end_time": "2025-06-19T18:28:28.738565Z",
     "start_time": "2025-06-19T18:28:28.724046Z"
    }
   },
   "cell_type": "code",
   "source": "df.describe()",
   "id": "74cae7310f167a54",
   "outputs": [
    {
     "data": {
      "text/plain": [
       "       Released_Year     Runtime  IMDB_Rating  Meta_score   No_of_Votes  \\\n",
       "count     999.000000  999.000000   999.000000  999.000000  9.990000e+02   \n",
       "mean     1991.217217  122.873874     7.949650   77.972684  2.736974e+05   \n",
       "std        23.297025   28.102520     0.275407   11.367710  3.275366e+05   \n",
       "min      1920.000000   45.000000     7.600000   28.000000  2.508800e+04   \n",
       "25%      1976.000000  103.000000     7.700000   72.000000  5.547150e+04   \n",
       "50%      1999.000000  119.000000     7.900000   77.972684  1.383560e+05   \n",
       "75%      2009.000000  137.000000     8.100000   85.500000  3.744775e+05   \n",
       "max      2020.000000  321.000000     9.300000  100.000000  2.343110e+06   \n",
       "\n",
       "              Gross  \n",
       "count  9.990000e+02  \n",
       "mean   5.641946e+07  \n",
       "std    1.032231e+08  \n",
       "min    0.000000e+00  \n",
       "25%    4.422285e+05  \n",
       "50%    1.068028e+07  \n",
       "75%    6.139004e+07  \n",
       "max    9.366622e+08  "
      ],
      "text/html": [
       "<div>\n",
       "<style scoped>\n",
       "    .dataframe tbody tr th:only-of-type {\n",
       "        vertical-align: middle;\n",
       "    }\n",
       "\n",
       "    .dataframe tbody tr th {\n",
       "        vertical-align: top;\n",
       "    }\n",
       "\n",
       "    .dataframe thead th {\n",
       "        text-align: right;\n",
       "    }\n",
       "</style>\n",
       "<table border=\"1\" class=\"dataframe\">\n",
       "  <thead>\n",
       "    <tr style=\"text-align: right;\">\n",
       "      <th></th>\n",
       "      <th>Released_Year</th>\n",
       "      <th>Runtime</th>\n",
       "      <th>IMDB_Rating</th>\n",
       "      <th>Meta_score</th>\n",
       "      <th>No_of_Votes</th>\n",
       "      <th>Gross</th>\n",
       "    </tr>\n",
       "  </thead>\n",
       "  <tbody>\n",
       "    <tr>\n",
       "      <th>count</th>\n",
       "      <td>999.000000</td>\n",
       "      <td>999.000000</td>\n",
       "      <td>999.000000</td>\n",
       "      <td>999.000000</td>\n",
       "      <td>9.990000e+02</td>\n",
       "      <td>9.990000e+02</td>\n",
       "    </tr>\n",
       "    <tr>\n",
       "      <th>mean</th>\n",
       "      <td>1991.217217</td>\n",
       "      <td>122.873874</td>\n",
       "      <td>7.949650</td>\n",
       "      <td>77.972684</td>\n",
       "      <td>2.736974e+05</td>\n",
       "      <td>5.641946e+07</td>\n",
       "    </tr>\n",
       "    <tr>\n",
       "      <th>std</th>\n",
       "      <td>23.297025</td>\n",
       "      <td>28.102520</td>\n",
       "      <td>0.275407</td>\n",
       "      <td>11.367710</td>\n",
       "      <td>3.275366e+05</td>\n",
       "      <td>1.032231e+08</td>\n",
       "    </tr>\n",
       "    <tr>\n",
       "      <th>min</th>\n",
       "      <td>1920.000000</td>\n",
       "      <td>45.000000</td>\n",
       "      <td>7.600000</td>\n",
       "      <td>28.000000</td>\n",
       "      <td>2.508800e+04</td>\n",
       "      <td>0.000000e+00</td>\n",
       "    </tr>\n",
       "    <tr>\n",
       "      <th>25%</th>\n",
       "      <td>1976.000000</td>\n",
       "      <td>103.000000</td>\n",
       "      <td>7.700000</td>\n",
       "      <td>72.000000</td>\n",
       "      <td>5.547150e+04</td>\n",
       "      <td>4.422285e+05</td>\n",
       "    </tr>\n",
       "    <tr>\n",
       "      <th>50%</th>\n",
       "      <td>1999.000000</td>\n",
       "      <td>119.000000</td>\n",
       "      <td>7.900000</td>\n",
       "      <td>77.972684</td>\n",
       "      <td>1.383560e+05</td>\n",
       "      <td>1.068028e+07</td>\n",
       "    </tr>\n",
       "    <tr>\n",
       "      <th>75%</th>\n",
       "      <td>2009.000000</td>\n",
       "      <td>137.000000</td>\n",
       "      <td>8.100000</td>\n",
       "      <td>85.500000</td>\n",
       "      <td>3.744775e+05</td>\n",
       "      <td>6.139004e+07</td>\n",
       "    </tr>\n",
       "    <tr>\n",
       "      <th>max</th>\n",
       "      <td>2020.000000</td>\n",
       "      <td>321.000000</td>\n",
       "      <td>9.300000</td>\n",
       "      <td>100.000000</td>\n",
       "      <td>2.343110e+06</td>\n",
       "      <td>9.366622e+08</td>\n",
       "    </tr>\n",
       "  </tbody>\n",
       "</table>\n",
       "</div>"
      ]
     },
     "execution_count": 29,
     "metadata": {},
     "output_type": "execute_result"
    }
   ],
   "execution_count": 29
  },
  {
   "metadata": {
    "ExecuteTime": {
     "end_time": "2025-06-19T18:29:15.356941Z",
     "start_time": "2025-06-19T18:29:15.351588Z"
    }
   },
   "cell_type": "code",
   "source": [
    "# See the frequency of certificates\n",
    "df['Certificate'].value_counts()"
   ],
   "id": "c0485cd2254af852",
   "outputs": [
    {
     "data": {
      "text/plain": [
       "Certificate\n",
       "U            233\n",
       "A            197\n",
       "UA           175\n",
       "R            146\n",
       "Not Rated    101\n",
       "PG-13         43\n",
       "PG            37\n",
       "Passed        34\n",
       "G             12\n",
       "Approved      11\n",
       "TV-PG          3\n",
       "GP             2\n",
       "TV-14          1\n",
       "Unrated        1\n",
       "TV-MA          1\n",
       "16             1\n",
       "U/A            1\n",
       "Name: count, dtype: int64"
      ]
     },
     "execution_count": 30,
     "metadata": {},
     "output_type": "execute_result"
    }
   ],
   "execution_count": 30
  },
  {
   "metadata": {
    "ExecuteTime": {
     "end_time": "2025-06-19T18:29:41.458121Z",
     "start_time": "2025-06-19T18:29:41.451611Z"
    }
   },
   "cell_type": "code",
   "source": [
    "# See the frequency of genres\n",
    "df['Genre'].value_counts().head(10)"
   ],
   "id": "5e9001be6362fca1",
   "outputs": [
    {
     "data": {
      "text/plain": [
       "Genre\n",
       "Drama                           85\n",
       "Drama, Romance                  37\n",
       "Comedy, Drama                   35\n",
       "Comedy, Drama, Romance          31\n",
       "Action, Crime, Drama            30\n",
       "Biography, Drama, History       28\n",
       "Crime, Drama, Thriller          28\n",
       "Crime, Drama, Mystery           27\n",
       "Crime, Drama                    26\n",
       "Animation, Adventure, Comedy    24\n",
       "Name: count, dtype: int64"
      ]
     },
     "execution_count": 31,
     "metadata": {},
     "output_type": "execute_result"
    }
   ],
   "execution_count": 31
  },
  {
   "metadata": {
    "ExecuteTime": {
     "end_time": "2025-06-19T18:31:09.344476Z",
     "start_time": "2025-06-19T18:31:09.338335Z"
    }
   },
   "cell_type": "code",
   "source": [
    "# Find the number of movies per year\n",
    "df['Released_Year'].value_counts().sort_index(ascending=False).head(20)"
   ],
   "id": "e967de3ca8ecaaa9",
   "outputs": [
    {
     "data": {
      "text/plain": [
       "Released_Year\n",
       "2020.0     6\n",
       "2019.0    23\n",
       "2018.0    19\n",
       "2017.0    22\n",
       "2016.0    28\n",
       "2015.0    25\n",
       "2014.0    32\n",
       "2013.0    28\n",
       "2012.0    24\n",
       "2011.0    18\n",
       "2010.0    23\n",
       "2009.0    29\n",
       "2008.0    21\n",
       "2007.0    26\n",
       "2006.0    26\n",
       "2005.0    17\n",
       "2004.0    31\n",
       "2003.0    22\n",
       "2002.0    19\n",
       "2001.0    27\n",
       "Name: count, dtype: int64"
      ]
     },
     "execution_count": 33,
     "metadata": {},
     "output_type": "execute_result"
    }
   ],
   "execution_count": 33
  },
  {
   "metadata": {
    "ExecuteTime": {
     "end_time": "2025-06-19T19:08:13.845779Z",
     "start_time": "2025-06-19T19:08:13.842799Z"
    }
   },
   "cell_type": "code",
   "source": [
    "# plt.figure(figsize=(12, 5))\n",
    "# df['Released_Year'].value_counts().sort_index().plot(kind='line')\n",
    "# plt.title(\"Number of Movies released per Year\")\n",
    "# plt.xlabel(\"Year\")\n",
    "# plt.ylabel(\"Number of movies\")\n",
    "# plt.grid(True)\n",
    "#\n",
    "# # Save the picture before showing the plot\n",
    "# plt.savefig(\"insight_movies_per_year.png\", dpi=300, bbox_inches='tight')\n",
    "#\n",
    "# plt.show()\n",
    "# plt.close()"
   ],
   "id": "6db1c0d9bbcfc3b1",
   "outputs": [],
   "execution_count": 55
  },
  {
   "metadata": {
    "ExecuteTime": {
     "end_time": "2025-06-19T19:05:11.991553Z",
     "start_time": "2025-06-19T19:05:11.755568Z"
    }
   },
   "cell_type": "code",
   "source": [
    "# Personalized version\n",
    "plt.figure(figsize=(12, 5))\n",
    "df['Released_Year'].value_counts().sort_index().plot(\n",
    "    kind='line',\n",
    "    color='#A020F0',      # Purple line\n",
    "    marker='o',\n",
    "    markersize=4,\n",
    "    linewidth=2\n",
    ")\n",
    "\n",
    "plt.title(\"Number of Movies released per Year\", color='black')\n",
    "plt.xlabel(\"Year\", color='black')\n",
    "plt.ylabel(\"Number of movies\", color='black')\n",
    "plt.grid(True)\n",
    "\n",
    "plt.savefig(\"insight1_movies_per_year.png\", dpi=300, bbox_inches='tight')\n",
    "plt.show()\n",
    "plt.close()"
   ],
   "id": "8696cc86f1c03aa7",
   "outputs": [
    {
     "data": {
      "text/plain": [
       "<Figure size 1200x500 with 1 Axes>"
      ],
      "image/png": "[encoded data removed]"
     },
     "metadata": {},
     "output_type": "display_data"
    }
   ],
   "execution_count": 53
  },
  {
   "metadata": {},
   "cell_type": "markdown",
   "source": "I can see that movie production has increased over time, peaking around the 2000s (I would say 2019), then slightly declining by 2020 (likely due to the pandemic).",
   "id": "ced5aec9cd8aa3f4"
  },
  {
   "metadata": {},
   "cell_type": "code",
   "outputs": [],
   "execution_count": null,
   "source": "df.groupby('Certificate')['IMDB_Rating'].mean().sort_values(ascending=False)",
   "id": "b8e47d9c49802225"
  },
  {
   "metadata": {},
   "cell_type": "markdown",
   "source": "## Compare average IMDB ratings per certificate",
   "id": "7041cea4da022758"
  },
  {
   "metadata": {
    "ExecuteTime": {
     "end_time": "2025-06-19T18:51:44.716647Z",
     "start_time": "2025-06-19T18:51:44.709803Z"
    }
   },
   "cell_type": "code",
   "source": "df.groupby('Certificate')['IMDB_Rating'].mean().sort_values(ascending=False)",
   "id": "d9c9efb172242ca0",
   "outputs": [
    {
     "data": {
      "text/plain": [
       "Certificate\n",
       "TV-14        8.300000\n",
       "16           8.100000\n",
       "TV-MA        8.100000\n",
       "Unrated      8.100000\n",
       "Passed       8.020588\n",
       "G            8.000000\n",
       "A            7.998985\n",
       "U            7.978541\n",
       "UA           7.957143\n",
       "Approved     7.945455\n",
       "Not Rated    7.931683\n",
       "PG           7.927027\n",
       "TV-PG        7.900000\n",
       "R            7.869863\n",
       "GP           7.850000\n",
       "PG-13        7.797674\n",
       "U/A          7.600000\n",
       "Name: IMDB_Rating, dtype: float64"
      ]
     },
     "execution_count": 43,
     "metadata": {},
     "output_type": "execute_result"
    }
   ],
   "execution_count": 43
  },
  {
   "metadata": {
    "ExecuteTime": {
     "end_time": "2025-06-19T18:52:24.229041Z",
     "start_time": "2025-06-19T18:52:24.221280Z"
    }
   },
   "cell_type": "code",
   "source": [
    "# Show all certificate ratings\n",
    "df.groupby('Certificate')['IMDB_Rating'].mean().sort_values(ascending=False).reset_index()"
   ],
   "id": "c5b01280d36b6faf",
   "outputs": [
    {
     "data": {
      "text/plain": [
       "   Certificate  IMDB_Rating\n",
       "0        TV-14     8.300000\n",
       "1           16     8.100000\n",
       "2        TV-MA     8.100000\n",
       "3      Unrated     8.100000\n",
       "4       Passed     8.020588\n",
       "5            G     8.000000\n",
       "6            A     7.998985\n",
       "7            U     7.978541\n",
       "8           UA     7.957143\n",
       "9     Approved     7.945455\n",
       "10   Not Rated     7.931683\n",
       "11          PG     7.927027\n",
       "12       TV-PG     7.900000\n",
       "13           R     7.869863\n",
       "14          GP     7.850000\n",
       "15       PG-13     7.797674\n",
       "16         U/A     7.600000"
      ],
      "text/html": [
       "<div>\n",
       "<style scoped>\n",
       "    .dataframe tbody tr th:only-of-type {\n",
       "        vertical-align: middle;\n",
       "    }\n",
       "\n",
       "    .dataframe tbody tr th {\n",
       "        vertical-align: top;\n",
       "    }\n",
       "\n",
       "    .dataframe thead th {\n",
       "        text-align: right;\n",
       "    }\n",
       "</style>\n",
       "<table border=\"1\" class=\"dataframe\">\n",
       "  <thead>\n",
       "    <tr style=\"text-align: right;\">\n",
       "      <th></th>\n",
       "      <th>Certificate</th>\n",
       "      <th>IMDB_Rating</th>\n",
       "    </tr>\n",
       "  </thead>\n",
       "  <tbody>\n",
       "    <tr>\n",
       "      <th>0</th>\n",
       "      <td>TV-14</td>\n",
       "      <td>8.300000</td>\n",
       "    </tr>\n",
       "    <tr>\n",
       "      <th>1</th>\n",
       "      <td>16</td>\n",
       "      <td>8.100000</td>\n",
       "    </tr>\n",
       "    <tr>\n",
       "      <th>2</th>\n",
       "      <td>TV-MA</td>\n",
       "      <td>8.100000</td>\n",
       "    </tr>\n",
       "    <tr>\n",
       "      <th>3</th>\n",
       "      <td>Unrated</td>\n",
       "      <td>8.100000</td>\n",
       "    </tr>\n",
       "    <tr>\n",
       "      <th>4</th>\n",
       "      <td>Passed</td>\n",
       "      <td>8.020588</td>\n",
       "    </tr>\n",
       "    <tr>\n",
       "      <th>5</th>\n",
       "      <td>G</td>\n",
       "      <td>8.000000</td>\n",
       "    </tr>\n",
       "    <tr>\n",
       "      <th>6</th>\n",
       "      <td>A</td>\n",
       "      <td>7.998985</td>\n",
       "    </tr>\n",
       "    <tr>\n",
       "      <th>7</th>\n",
       "      <td>U</td>\n",
       "      <td>7.978541</td>\n",
       "    </tr>\n",
       "    <tr>\n",
       "      <th>8</th>\n",
       "      <td>UA</td>\n",
       "      <td>7.957143</td>\n",
       "    </tr>\n",
       "    <tr>\n",
       "      <th>9</th>\n",
       "      <td>Approved</td>\n",
       "      <td>7.945455</td>\n",
       "    </tr>\n",
       "    <tr>\n",
       "      <th>10</th>\n",
       "      <td>Not Rated</td>\n",
       "      <td>7.931683</td>\n",
       "    </tr>\n",
       "    <tr>\n",
       "      <th>11</th>\n",
       "      <td>PG</td>\n",
       "      <td>7.927027</td>\n",
       "    </tr>\n",
       "    <tr>\n",
       "      <th>12</th>\n",
       "      <td>TV-PG</td>\n",
       "      <td>7.900000</td>\n",
       "    </tr>\n",
       "    <tr>\n",
       "      <th>13</th>\n",
       "      <td>R</td>\n",
       "      <td>7.869863</td>\n",
       "    </tr>\n",
       "    <tr>\n",
       "      <th>14</th>\n",
       "      <td>GP</td>\n",
       "      <td>7.850000</td>\n",
       "    </tr>\n",
       "    <tr>\n",
       "      <th>15</th>\n",
       "      <td>PG-13</td>\n",
       "      <td>7.797674</td>\n",
       "    </tr>\n",
       "    <tr>\n",
       "      <th>16</th>\n",
       "      <td>U/A</td>\n",
       "      <td>7.600000</td>\n",
       "    </tr>\n",
       "  </tbody>\n",
       "</table>\n",
       "</div>"
      ]
     },
     "execution_count": 44,
     "metadata": {},
     "output_type": "execute_result"
    }
   ],
   "execution_count": 44
  },
  {
   "metadata": {
    "ExecuteTime": {
     "end_time": "2025-06-19T19:08:21.681489Z",
     "start_time": "2025-06-19T19:08:21.678344Z"
    }
   },
   "cell_type": "code",
   "source": [
    "# plt.figure(figsize=(10, 6))\n",
    "# df.groupby('Certificate')['IMDB_Rating'].mean().sort_values(ascending=False).plot(kind='bar', color='skyblue')\n",
    "#\n",
    "# plt.title(\"Average IMDB Rating by Movie Certificate\")\n",
    "# plt.xlabel(\"Certificate\")\n",
    "# plt.ylabel(\"Average IMDB Rating\")\n",
    "# plt.xticks(rotation=45)\n",
    "# plt.grid(axis='y')\n",
    "#\n",
    "# # Save before show\n",
    "# plt.savefig(\"insight_imdb_vs_certificate.png\", dpi=300, bbox_inches='tight')\n",
    "# plt.show()\n",
    "# plt.close()"
   ],
   "id": "d34479a525021aad",
   "outputs": [],
   "execution_count": 56
  },
  {
   "metadata": {
    "ExecuteTime": {
     "end_time": "2025-06-19T19:05:55.691773Z",
     "start_time": "2025-06-19T19:05:55.420074Z"
    }
   },
   "cell_type": "code",
   "source": [
    "# Personalized version\n",
    "plt.figure(figsize=(10, 6))\n",
    "df.groupby('Certificate')['IMDB_Rating'].mean().sort_values(ascending=False).plot(\n",
    "    kind='bar',\n",
    "    color='#A020F0',      # Purple bars\n",
    "    edgecolor='black'\n",
    ")\n",
    "\n",
    "plt.title(\"Average IMDB Rating by Movie Certificate\", color='black')\n",
    "plt.xlabel(\"Certificate\", color='black')\n",
    "plt.ylabel(\"Average IMDB Rating\", color='black')\n",
    "plt.xticks(rotation=45, color='black')\n",
    "plt.yticks(color='black')\n",
    "plt.grid(axis='y')\n",
    "\n",
    "plt.savefig(\"insight2_imdb_vs_certificate.png\", dpi=300, bbox_inches='tight')\n",
    "plt.show()\n",
    "plt.close()"
   ],
   "id": "10376d04a1080da",
   "outputs": [
    {
     "data": {
      "text/plain": [
       "<Figure size 1000x600 with 1 Axes>"
      ],
      "image/png": "[encoded data removed]"
     },
     "metadata": {},
     "output_type": "display_data"
    }
   ],
   "execution_count": 54
  }
 ],
 "metadata": {
  "kernelspec": {
   "display_name": "Python 3",
   "language": "python",
   "name": "python3"
  },
  "language_info": {
   "codemirror_mode": {
    "name": "ipython",
    "version": 2
   },
   "file_extension": ".py",
   "mimetype": "text/x-python",
   "name": "python",
   "nbconvert_exporter": "python",
   "pygments_lexer": "ipython2",
   "version": "2.7.6"
  }
 },
 "nbformat": 4,
 "nbformat_minor": 5
}
